{
 "cells": [
  {
   "cell_type": "markdown",
   "id": "166fb7ee",
   "metadata": {},
   "source": [
    "## Topic:\n",
    "- Dropping Columns\n",
    "- Treating rows with null values\n",
    "- Imputation of null values"
   ]
  },
  {
   "cell_type": "code",
   "execution_count": 1,
   "id": "59b28365",
   "metadata": {},
   "outputs": [
    {
     "name": "stdout",
     "output_type": "stream",
     "text": [
      "Requirement already satisfied: pyspark in c:\\my files\\anaconda\\lib\\site-packages (3.4.1)\n",
      "Requirement already satisfied: py4j==0.10.9.7 in c:\\my files\\anaconda\\lib\\site-packages (from pyspark) (0.10.9.7)\n"
     ]
    }
   ],
   "source": [
    "!pip install pyspark"
   ]
  },
  {
   "cell_type": "code",
   "execution_count": 2,
   "id": "a0228bcc",
   "metadata": {},
   "outputs": [],
   "source": [
    "#import Spark API and creating cluster\n",
    "from pyspark.sql import SparkSession\n",
    "spark = SparkSession.builder.appName('Practise').getOrCreate()"
   ]
  },
  {
   "cell_type": "code",
   "execution_count": 3,
   "id": "c9b3f682",
   "metadata": {},
   "outputs": [
    {
     "name": "stdout",
     "output_type": "stream",
     "text": [
      "+----+----+----------+------+\n",
      "|Name| Age|Experience|Salary|\n",
      "+----+----+----------+------+\n",
      "|  KK|  31|        10| 30000|\n",
      "|  AA|  30|         8| 25000|\n",
      "|  BB|  29|         4| 20000|\n",
      "|  CC|  24|         3| 20000|\n",
      "|  DD|  21|         1| 15000|\n",
      "|  PP|  23|         2| 18000|\n",
      "|  MM|null|      null| 40000|\n",
      "|null|  34|        10| 38000|\n",
      "|null|  36|      null|  null|\n",
      "+----+----+----------+------+\n",
      "\n"
     ]
    }
   ],
   "source": [
    "#Reading dataset\n",
    "df_pyspark_1 = spark.read.csv('C:/Users/ASUS/OneDrive/Desktop/DatasetR/Spark_test_01.csv',header=True,inferSchema=True)\n",
    "df_pyspark_1.show()"
   ]
  },
  {
   "cell_type": "code",
   "execution_count": 4,
   "id": "0d1fc1b8",
   "metadata": {},
   "outputs": [
    {
     "name": "stdout",
     "output_type": "stream",
     "text": [
      "root\n",
      " |-- Name: string (nullable = true)\n",
      " |-- Age: integer (nullable = true)\n",
      " |-- Experience: integer (nullable = true)\n",
      " |-- Salary: integer (nullable = true)\n",
      "\n"
     ]
    }
   ],
   "source": [
    "#checking schema\n",
    "df_pyspark_1.printSchema()"
   ]
  },
  {
   "cell_type": "code",
   "execution_count": 5,
   "id": "2071edc7",
   "metadata": {},
   "outputs": [
    {
     "name": "stdout",
     "output_type": "stream",
     "text": [
      "+----+----------+------+\n",
      "| Age|Experience|Salary|\n",
      "+----+----------+------+\n",
      "|  31|        10| 30000|\n",
      "|  30|         8| 25000|\n",
      "|  29|         4| 20000|\n",
      "|  24|         3| 20000|\n",
      "|  21|         1| 15000|\n",
      "|  23|         2| 18000|\n",
      "|null|      null| 40000|\n",
      "|  34|        10| 38000|\n",
      "|  36|      null|  null|\n",
      "+----+----------+------+\n",
      "\n"
     ]
    }
   ],
   "source": [
    "#dropping a column\n",
    "df_pyspark_1.drop('Name').show()"
   ]
  },
  {
   "cell_type": "code",
   "execution_count": 7,
   "id": "39e8797d",
   "metadata": {},
   "outputs": [
    {
     "name": "stdout",
     "output_type": "stream",
     "text": [
      "+----+---+----------+------+\n",
      "|Name|Age|Experience|Salary|\n",
      "+----+---+----------+------+\n",
      "|  KK| 31|        10| 30000|\n",
      "|  AA| 30|         8| 25000|\n",
      "|  BB| 29|         4| 20000|\n",
      "|  CC| 24|         3| 20000|\n",
      "|  DD| 21|         1| 15000|\n",
      "|  PP| 23|         2| 18000|\n",
      "+----+---+----------+------+\n",
      "\n"
     ]
    }
   ],
   "source": [
    "#Drop specific rows based on Null values\n",
    "df_pyspark_1.na.drop().show()"
   ]
  },
  {
   "cell_type": "code",
   "execution_count": 8,
   "id": "803fc53e",
   "metadata": {},
   "outputs": [
    {
     "name": "stdout",
     "output_type": "stream",
     "text": [
      "+----+----+----------+------+\n",
      "|Name| Age|Experience|Salary|\n",
      "+----+----+----------+------+\n",
      "|  KK|  31|        10| 30000|\n",
      "|  AA|  30|         8| 25000|\n",
      "|  BB|  29|         4| 20000|\n",
      "|  CC|  24|         3| 20000|\n",
      "|  DD|  21|         1| 15000|\n",
      "|  PP|  23|         2| 18000|\n",
      "|  MM|null|      null| 40000|\n",
      "|null|  34|        10| 38000|\n",
      "|null|  36|      null|  null|\n",
      "+----+----+----------+------+\n",
      "\n"
     ]
    }
   ],
   "source": [
    "### drop the row with all null values (we do not have such rows)\n",
    "df_pyspark_1.na.drop(how=\"all\").show()"
   ]
  },
  {
   "cell_type": "code",
   "execution_count": 11,
   "id": "87d8f6d5",
   "metadata": {},
   "outputs": [
    {
     "name": "stdout",
     "output_type": "stream",
     "text": [
      "+----+----+----------+------+\n",
      "|Name| Age|Experience|Salary|\n",
      "+----+----+----------+------+\n",
      "|  KK|  31|        10| 30000|\n",
      "|  AA|  30|         8| 25000|\n",
      "|  BB|  29|         4| 20000|\n",
      "|  CC|  24|         3| 20000|\n",
      "|  DD|  21|         1| 15000|\n",
      "|  PP|  23|         2| 18000|\n",
      "|  MM|null|      null| 40000|\n",
      "|null|  34|        10| 38000|\n",
      "+----+----+----------+------+\n",
      "\n"
     ]
    }
   ],
   "source": [
    "#threshold = 2 , Atleast 2 non null values are allowed. Last row had 3 non-null values, hence got deleted\n",
    "df_pyspark_1.na.drop(how=\"any\", thresh=2).show()"
   ]
  },
  {
   "cell_type": "code",
   "execution_count": 12,
   "id": "4b19c7ca",
   "metadata": {},
   "outputs": [
    {
     "name": "stdout",
     "output_type": "stream",
     "text": [
      "+----+---+----------+------+\n",
      "|Name|Age|Experience|Salary|\n",
      "+----+---+----------+------+\n",
      "|  KK| 31|        10| 30000|\n",
      "|  AA| 30|         8| 25000|\n",
      "|  BB| 29|         4| 20000|\n",
      "|  CC| 24|         3| 20000|\n",
      "|  DD| 21|         1| 15000|\n",
      "|  PP| 23|         2| 18000|\n",
      "|null| 34|        10| 38000|\n",
      "+----+---+----------+------+\n",
      "\n"
     ]
    }
   ],
   "source": [
    "#Atleast 3 non-null values are allowed.\n",
    "df_pyspark_1.na.drop(how=\"any\", thresh=3).show()"
   ]
  },
  {
   "cell_type": "code",
   "execution_count": 15,
   "id": "127f3640",
   "metadata": {},
   "outputs": [
    {
     "name": "stdout",
     "output_type": "stream",
     "text": [
      "+----+---+----------+------+\n",
      "|Name|Age|Experience|Salary|\n",
      "+----+---+----------+------+\n",
      "|  KK| 31|        10| 30000|\n",
      "|  AA| 30|         8| 25000|\n",
      "|  BB| 29|         4| 20000|\n",
      "|  CC| 24|         3| 20000|\n",
      "|  DD| 21|         1| 15000|\n",
      "|  PP| 23|         2| 18000|\n",
      "|null| 34|        10| 38000|\n",
      "+----+---+----------+------+\n",
      "\n"
     ]
    }
   ],
   "source": [
    "#Subset - If there is any null value in Experience column, the whole record will get deleted\n",
    "df_pyspark_1.na.drop(how=\"any\", subset=['Experience']).show()"
   ]
  },
  {
   "cell_type": "code",
   "execution_count": 22,
   "id": "19decdbb",
   "metadata": {},
   "outputs": [
    {
     "name": "stdout",
     "output_type": "stream",
     "text": [
      "+-------------+----+----------+------+\n",
      "|         Name| Age|Experience|Salary|\n",
      "+-------------+----+----------+------+\n",
      "|           KK|  31|        10| 30000|\n",
      "|           AA|  30|         8| 25000|\n",
      "|           BB|  29|         4| 20000|\n",
      "|           CC|  24|         3| 20000|\n",
      "|           DD|  21|         1| 15000|\n",
      "|           PP|  23|         2| 18000|\n",
      "|           MM|null|      null| 40000|\n",
      "|Missing Value|  34|        10| 38000|\n",
      "|Missing Value|  36|      null|  null|\n",
      "+-------------+----+----------+------+\n",
      "\n"
     ]
    }
   ],
   "source": [
    "#Filling null value with \"missing value\"\n",
    "df_pyspark_1.na.fill('Missing Value','Name').show()"
   ]
  },
  {
   "cell_type": "code",
   "execution_count": 24,
   "id": "d5623983",
   "metadata": {},
   "outputs": [],
   "source": [
    "#Using imputive function to handle null value\n",
    "from pyspark.ml.feature import Imputer\n",
    "\n",
    "imputer = Imputer(\n",
    "inputCols=['Age','Experience','Salary'],\n",
    "outputCols=[\"{}_imputed\".format(c) for c in ['Age','Experience','Salary']]\n",
    ").setStrategy(\"mean\")\n"
   ]
  },
  {
   "cell_type": "code",
   "execution_count": 25,
   "id": "f15eeef9",
   "metadata": {},
   "outputs": [
    {
     "name": "stdout",
     "output_type": "stream",
     "text": [
      "+----+----+----------+------+-----------+------------------+--------------+\n",
      "|Name| Age|Experience|Salary|Age_imputed|Experience_imputed|Salary_imputed|\n",
      "+----+----+----------+------+-----------+------------------+--------------+\n",
      "|  KK|  31|        10| 30000|         31|                10|         30000|\n",
      "|  AA|  30|         8| 25000|         30|                 8|         25000|\n",
      "|  BB|  29|         4| 20000|         29|                 4|         20000|\n",
      "|  CC|  24|         3| 20000|         24|                 3|         20000|\n",
      "|  DD|  21|         1| 15000|         21|                 1|         15000|\n",
      "|  PP|  23|         2| 18000|         23|                 2|         18000|\n",
      "|  MM|null|      null| 40000|         28|                 5|         40000|\n",
      "|null|  34|        10| 38000|         34|                10|         38000|\n",
      "|null|  36|      null|  null|         36|                 5|         25750|\n",
      "+----+----+----------+------+-----------+------------------+--------------+\n",
      "\n"
     ]
    }
   ],
   "source": [
    "#Adding imputation columns to the df\n",
    "imputer.fit(df_pyspark_1).transform(df_pyspark_1).show()"
   ]
  }
 ],
 "metadata": {
  "kernelspec": {
   "display_name": "Python 3",
   "language": "python",
   "name": "python3"
  },
  "language_info": {
   "codemirror_mode": {
    "name": "ipython",
    "version": 3
   },
   "file_extension": ".py",
   "mimetype": "text/x-python",
   "name": "python",
   "nbconvert_exporter": "python",
   "pygments_lexer": "ipython3",
   "version": "3.8.8"
  }
 },
 "nbformat": 4,
 "nbformat_minor": 5
}
