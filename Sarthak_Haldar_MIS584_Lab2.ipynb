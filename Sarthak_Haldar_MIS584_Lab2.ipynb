{
  "nbformat": 4,
  "nbformat_minor": 0,
  "metadata": {
    "colab": {
      "provenance": []
    },
    "kernelspec": {
      "name": "python3",
      "display_name": "Python 3"
    },
    "language_info": {
      "name": "python"
    }
  },
  "cells": [
    {
      "cell_type": "markdown",
      "source": [
        "# Lab Assignment 2\n",
        "## Learning Objectives\n",
        "* Demonstrate the use of PySpark RDD for basic distributed computing\n",
        "* Demonstrate the use of PySpark SQL for structured data analysis\n",
        "\n",
        "## Due Date\n",
        "**Midnight, Thursday, October 12, 2023**\n",
        "\n",
        "## Assignment Submission Instructions\n",
        "When your file is ready, submit the following deliverables to the Lab Assignmen 2 dropbox:\n",
        "* Provide the link to your Google Colab notebook in the comments section; please make sure that **you enable the general access to your notebook with links before submission**. Failure to open your notebook will automatically lead to a grade of 0.\n",
        "* Upload the notebook file with the `.ipynb` suffix to the submission drop box. The uploaded notebook should have the same content as the one shared through the link, include enough documentation of the code, and have all the outputs available.\n",
        "\n",
        "## Others\n",
        "As always, feel free to come to our office hours or let us know through email if you face any difficulties/challenges while finishing the assignment. Good luck! For your convenience, I have created the text and code cells you might need for the lab assignment. Please also complete your contact information in the notebook as well."
      ],
      "metadata": {
        "id": "Ei3cTF2XWrCR"
      }
    },
    {
      "cell_type": "markdown",
      "source": [
        "## Student's Contact Information:\n",
        "Name: Sarthak Haldar\n",
        "\n",
        "Email: sarthakhaldar@arizona.edu"
      ],
      "metadata": {
        "id": "Jm5ERW6zhPQT"
      }
    },
    {
      "cell_type": "markdown",
      "source": [
        "## Part 0: Configure Spark and Download Data\n",
        "In this section, we provide you with the code to install PySpark, configure Spark Context and Spark Session, and download the datasets you are going to use. You can safely run the code in this section. After everything finishes successfully, you will see two datasets, one named `text_reviews.txt` and the other named `user_reviews.csv` located under your Google Colab workspace. Alternatively, you can copy and paste the url links to both datasets in your web browser and download them to your local desktop as well."
      ],
      "metadata": {
        "id": "gpOpzNtyhVDZ"
      }
    },
    {
      "cell_type": "code",
      "source": [
        "!pip install pyspark"
      ],
      "metadata": {
        "id": "K0C5UP9sgce1",
        "colab": {
          "base_uri": "https://localhost:8080/"
        },
        "outputId": "5fb581e6-a2fb-4a03-b5a3-a64fe6533c82"
      },
      "execution_count": 1,
      "outputs": [
        {
          "output_type": "stream",
          "name": "stdout",
          "text": [
            "Collecting pyspark\n",
            "  Downloading pyspark-3.5.0.tar.gz (316.9 MB)\n",
            "\u001b[2K     \u001b[90m━━━━━━━━━━━━━━━━━━━━━━━━━━━━━━━━━━━━━━━\u001b[0m \u001b[32m316.9/316.9 MB\u001b[0m \u001b[31m4.1 MB/s\u001b[0m eta \u001b[36m0:00:00\u001b[0m\n",
            "\u001b[?25h  Preparing metadata (setup.py) ... \u001b[?25l\u001b[?25hdone\n",
            "Requirement already satisfied: py4j==0.10.9.7 in /usr/local/lib/python3.10/dist-packages (from pyspark) (0.10.9.7)\n",
            "Building wheels for collected packages: pyspark\n",
            "  Building wheel for pyspark (setup.py) ... \u001b[?25l\u001b[?25hdone\n",
            "  Created wheel for pyspark: filename=pyspark-3.5.0-py2.py3-none-any.whl size=317425344 sha256=97410caf1fdd7e2a38ac8ee1ac9879bfd16962bc4c8e445594e89714ea696ca5\n",
            "  Stored in directory: /root/.cache/pip/wheels/41/4e/10/c2cf2467f71c678cfc8a6b9ac9241e5e44a01940da8fbb17fc\n",
            "Successfully built pyspark\n",
            "Installing collected packages: pyspark\n",
            "Successfully installed pyspark-3.5.0\n"
          ]
        }
      ]
    },
    {
      "cell_type": "code",
      "source": [
        "# create spark context and spark session\n",
        "from pyspark import SparkConf, SparkContext\n",
        "\n",
        "conf = SparkConf().setMaster(\"local\").setAppName(\"MIS584_Lab_Assignment2\")\n",
        "sc = SparkContext(conf = conf)\n",
        "\n",
        "from pyspark.sql import SparkSession\n",
        "spark = SparkSession.builder.appName(\"MIS584_Lab_Assignment2\").getOrCreate()"
      ],
      "metadata": {
        "id": "QtZWkhCwgeql"
      },
      "execution_count": 2,
      "outputs": []
    },
    {
      "cell_type": "code",
      "source": [
        "# download the yelp review dataset\n",
        "from urllib.request import urlretrieve\n",
        "urlretrieve('https://drive.google.com/uc?export=download&id=1AV5z7EcHoMabL5yijp_jRwcqzbHNhxGp',\n",
        "            'user_reviews.csv') ## Save url's file locally.\n",
        "urlretrieve('https://drive.google.com/uc?export=download&id=1D1BKYITdAsy82UVcbO8bTL7oDY-flHId',\n",
        "            'text_reviews.txt')"
      ],
      "metadata": {
        "id": "rYI9mEk2g0WX",
        "colab": {
          "base_uri": "https://localhost:8080/"
        },
        "outputId": "3151a86a-ec19-4779-e9eb-9b41830213f6"
      },
      "execution_count": 3,
      "outputs": [
        {
          "output_type": "execute_result",
          "data": {
            "text/plain": [
              "('text_reviews.txt', <http.client.HTTPMessage at 0x7a2891be7c70>)"
            ]
          },
          "metadata": {},
          "execution_count": 3
        }
      ]
    },
    {
      "cell_type": "markdown",
      "source": [
        "## Part 1: Practice of PySpark RDD (4 points)\n",
        "In this part, you need to use the techniques for PySpark RDD to read and process an external file that stores users' text reviews on businesses from Tucson.\n",
        "\n",
        "Specifically, the external file, `text_reviews.txt`, has two columns separated by tabs (i.e., `\\t`). The first column stores each review's associated userr's ID, and the second column stores each review's text inforamtion. Please use the Spark techniques we discussed during the class to finish the following tasks:\n",
        "1. Read the text file using Spark's `textFile` function into an RDD; extract each line's user ID and review text by creating a customized mapper function and call the `map` transformation on the RDD. (1 point)\n",
        "2. Use the `distinct` action to return the total number of unique users in the dataset. Print the number. (0.5 point)\n",
        "3. Get the total number of reviews each user has posted using the `reduceByKey` transformation. Sort the transformed RDD by values (i.e., total number of reviews) in the descending order with the `sortBy` transformation. Print top 10 users who post the largest amount of reviews. (0.75 point)\n",
        "4. Get the total length of reviews (i.e., the total number of characters) each user has posted using the `reduceByKey` transformation. Sort the transformed RDD by values (i.e., total length of reviews) in the ascending order with the `sortBy` transformation. Print the 10 most quiet users (with the lowest total length of reviews). (0.75 point)\n",
        "\n",
        "**Hint**: For task 4, you might want to map each `(user_id, review_text)` tuple into `(user_id, len(review_text))`. After that, you can use the `reduceByKey` transformation to aggregate total length of reviews by users.\n",
        "\n"
      ],
      "metadata": {
        "id": "35rstBQMhoqW"
      }
    },
    {
      "cell_type": "markdown",
      "source": [
        "### Solution for Lab Assignment 2 Part 1\n",
        "Please replace this sentence with the documentation of your code for Lab Assignment 2 Part 1."
      ],
      "metadata": {
        "id": "_W1laedVhq8A"
      }
    },
    {
      "cell_type": "markdown",
      "source": [
        "### Read the text file using Spark's textFile function into an RDD; extract each line's user ID and review text by creating a customized mapper function and call the map transformation on the RDD."
      ],
      "metadata": {
        "id": "XK0PXGSG22dh"
      }
    },
    {
      "cell_type": "code",
      "source": [
        "\"\"\"\n",
        "This code cell is for Lab Assignment 2 Part\n",
        "\n",
        "\"\"\"\n",
        "\n",
        "reviews_rdd = 'text_reviews.txt'"
      ],
      "metadata": {
        "id": "u7fP7QVfhd8z"
      },
      "execution_count": 5,
      "outputs": []
    },
    {
      "cell_type": "code",
      "source": [
        "pwd"
      ],
      "metadata": {
        "colab": {
          "base_uri": "https://localhost:8080/",
          "height": 35
        },
        "id": "f1NlGVnibhGH",
        "outputId": "65af3668-4ec5-472e-a5f9-3c316096abb9"
      },
      "execution_count": 10,
      "outputs": [
        {
          "output_type": "execute_result",
          "data": {
            "text/plain": [
              "'/content'"
            ],
            "application/vnd.google.colaboratory.intrinsic+json": {
              "type": "string"
            }
          },
          "metadata": {},
          "execution_count": 10
        }
      ]
    },
    {
      "cell_type": "code",
      "source": [
        " cat text_reviews.txt | head -n 10"
      ],
      "metadata": {
        "colab": {
          "base_uri": "https://localhost:8080/"
        },
        "id": "YmjGcrKNcoZr",
        "outputId": "81fa1abf-0738-4cfc-e791-58dc70941cce"
      },
      "execution_count": 6,
      "outputs": [
        {
          "output_type": "stream",
          "name": "stdout",
          "text": [
            "CMYCfKoEu0WF9_43zRgr8g\tWe love this little restaurant! It's not as overrated  and loud compared to other places in Tucson. Sushi is awesome and for the right price.\r\n",
            "CMYCfKoEu0WF9_43zRgr8g\tWe came here for dinner this evening and was absolutely delicious! Truly I was blown away. I ordered a fish special at market price and couldn't believe how yummy it was. Can't recall the name of the fish but it was in the grouper family. It tasted very identical to crab meat.   I had my one year old daughter with and couldn't get her to eat anything, but she loved my fish! Service was friendly. Love it here, but it is pricey! $100+ for two people, however every penny was well spent.\r\n",
            "CMYCfKoEu0WF9_43zRgr8g\tJust a heads up the owner, Roya, will not give refunds or respond to clients. I paid $500+ to reserve hair and makeup for my bridal party in September.   I was not informed that the business was closed and haven't received any responses regarding to getting a refund. Roya is a total scammer and a disgrace to the beauty industry.  I have a contract and proof regarding their refund policy for weddings, it says 50% of the total was due and a refund is eligible if given 14 days notice. Here I am giving almost 4 months notice. What a huge disappointment. Hopefully she isn't allowed to start a new business just to steal people's money.\r\n",
            "CMYCfKoEu0WF9_43zRgr8g\tCame in to get my ends cleaned up, FIVE TO SIX inches of my hair was hacked off when I specified no more than two. This place is a girls ultimate nightmare if you want to somewhat keep your length. I tried to be reasonable and give it a few days to get used to it, however NOBODY should ever feel this way after getting their hair done. If you're looking for a professional ladies hair cut, go elsewhere. I'm now investing out of pocket to get extensions. By far the worst hair cut I've ever had in my life.\r\n",
            "CMYCfKoEu0WF9_43zRgr8g\tlove the atmosphere!!! The patio is the best area to sit and relax with a significant other. They've got outdoor stone fireplaces set up and comfortable (modern) furniture to dine/drink on. I'm only giving this place four stars is because their sushi is not very good... they strictly use imitation crab or no meat at all.\r\n",
            "CMYCfKoEu0WF9_43zRgr8g\tBreakfast is bomb!!! We usually come in an hour before closing since there's a long wait in the a.m.!\r\n",
            "aMP9YyQbzcxXTGkWEy1kvg\tThere is a sushi bar that relocated here on the east side that's pretty good. I've eaten there a couple of times and so far like it. There no more expensive then other sushi bars so you'll know about what to expect when u get there. If u set at bar you'll get soup when u order sushi that's no charge kinda helps fill u up. (And good for you) anyway I'll recommend this sushi .\r\n",
            "aMP9YyQbzcxXTGkWEy1kvg\tWe enjoyed the shrimp fu young. Have had it a couple of times and it's been great every time. Not sure about the other items on menu but will try more of the food over time.\r\n",
            "aMP9YyQbzcxXTGkWEy1kvg\tThe service friendly however the food really missed the mark ( we will not be going back)\r\n",
            "aMP9YyQbzcxXTGkWEy1kvg\tYes very nice both the Service and food plus the cost was reasonable . Thank you again kali jo for the service. You will be seeing us again\r\n"
          ]
        }
      ]
    },
    {
      "cell_type": "code",
      "source": [
        "\n",
        "raw_text = spark.read.text(reviews_rdd)\n",
        "\n",
        "raw_text.show(10)"
      ],
      "metadata": {
        "colab": {
          "base_uri": "https://localhost:8080/"
        },
        "id": "LTh0R0z6V7hY",
        "outputId": "b641df0c-4e85-4fe0-caf0-bbef88742320"
      },
      "execution_count": 7,
      "outputs": [
        {
          "output_type": "stream",
          "name": "stdout",
          "text": [
            "+--------------------+\n",
            "|               value|\n",
            "+--------------------+\n",
            "|CMYCfKoEu0WF9_43z...|\n",
            "|CMYCfKoEu0WF9_43z...|\n",
            "|CMYCfKoEu0WF9_43z...|\n",
            "|CMYCfKoEu0WF9_43z...|\n",
            "|CMYCfKoEu0WF9_43z...|\n",
            "|CMYCfKoEu0WF9_43z...|\n",
            "|aMP9YyQbzcxXTGkWE...|\n",
            "|aMP9YyQbzcxXTGkWE...|\n",
            "|aMP9YyQbzcxXTGkWE...|\n",
            "|aMP9YyQbzcxXTGkWE...|\n",
            "+--------------------+\n",
            "only showing top 10 rows\n",
            "\n"
          ]
        }
      ]
    },
    {
      "cell_type": "code",
      "source": [
        "reviews_rdd = spark.sparkContext.textFile(reviews_rdd)"
      ],
      "metadata": {
        "id": "kbtrefxRUfRY"
      },
      "execution_count": 9,
      "outputs": []
    },
    {
      "cell_type": "code",
      "source": [
        "# Define a customized mapper function\n",
        "def extract_user_review(text_reviews):\n",
        "    user_id, review_text = text_reviews.split(\"\\t\")\n",
        "    return user_id, review_text\n",
        "\n",
        "# Use the map transformation to apply the mapper function to the RDD\n",
        "user_review_rdd = reviews_rdd.map(extract_user_review)\n"
      ],
      "metadata": {
        "id": "PWIl2EsrUl67"
      },
      "execution_count": 10,
      "outputs": []
    },
    {
      "cell_type": "code",
      "source": [
        "# Print the result for verification\n",
        "#user_review_rdd.collect()\n",
        "user_review_rdd.take(5)"
      ],
      "metadata": {
        "colab": {
          "base_uri": "https://localhost:8080/"
        },
        "id": "RDltzNI_Up6P",
        "outputId": "1d11aee5-5f7c-4bd7-b0b8-d5e7fdf3a185"
      },
      "execution_count": 11,
      "outputs": [
        {
          "output_type": "execute_result",
          "data": {
            "text/plain": [
              "[('CMYCfKoEu0WF9_43zRgr8g',\n",
              "  \"We love this little restaurant! It's not as overrated  and loud compared to other places in Tucson. Sushi is awesome and for the right price.\"),\n",
              " ('CMYCfKoEu0WF9_43zRgr8g',\n",
              "  \"We came here for dinner this evening and was absolutely delicious! Truly I was blown away. I ordered a fish special at market price and couldn't believe how yummy it was. Can't recall the name of the fish but it was in the grouper family. It tasted very identical to crab meat.   I had my one year old daughter with and couldn't get her to eat anything, but she loved my fish! Service was friendly. Love it here, but it is pricey! $100+ for two people, however every penny was well spent.\"),\n",
              " ('CMYCfKoEu0WF9_43zRgr8g',\n",
              "  \"Just a heads up the owner, Roya, will not give refunds or respond to clients. I paid $500+ to reserve hair and makeup for my bridal party in September.   I was not informed that the business was closed and haven't received any responses regarding to getting a refund. Roya is a total scammer and a disgrace to the beauty industry.  I have a contract and proof regarding their refund policy for weddings, it says 50% of the total was due and a refund is eligible if given 14 days notice. Here I am giving almost 4 months notice. What a huge disappointment. Hopefully she isn't allowed to start a new business just to steal people's money.\"),\n",
              " ('CMYCfKoEu0WF9_43zRgr8g',\n",
              "  \"Came in to get my ends cleaned up, FIVE TO SIX inches of my hair was hacked off when I specified no more than two. This place is a girls ultimate nightmare if you want to somewhat keep your length. I tried to be reasonable and give it a few days to get used to it, however NOBODY should ever feel this way after getting their hair done. If you're looking for a professional ladies hair cut, go elsewhere. I'm now investing out of pocket to get extensions. By far the worst hair cut I've ever had in my life.\"),\n",
              " ('CMYCfKoEu0WF9_43zRgr8g',\n",
              "  \"love the atmosphere!!! The patio is the best area to sit and relax with a significant other. They've got outdoor stone fireplaces set up and comfortable (modern) furniture to dine/drink on. I'm only giving this place four stars is because their sushi is not very good... they strictly use imitation crab or no meat at all.\")]"
            ]
          },
          "metadata": {},
          "execution_count": 11
        }
      ]
    },
    {
      "cell_type": "markdown",
      "source": [
        "### Use the distinct action to return the total number of unique users in the dataset. Print the number."
      ],
      "metadata": {
        "id": "Iy3rT4Ft3RPH"
      }
    },
    {
      "cell_type": "code",
      "source": [
        "user_review_rdd.distinct().count()"
      ],
      "metadata": {
        "colab": {
          "base_uri": "https://localhost:8080/"
        },
        "id": "06BYYHM-3Uc3",
        "outputId": "0def2b27-331b-40b0-8a2a-2cc938d9336e"
      },
      "execution_count": 12,
      "outputs": [
        {
          "output_type": "execute_result",
          "data": {
            "text/plain": [
              "1680"
            ]
          },
          "metadata": {},
          "execution_count": 12
        }
      ]
    },
    {
      "cell_type": "markdown",
      "source": [
        "### Get the total number of reviews each user has posted using the `reduceByKey` transformation. Sort the transformed RDD by values (i.e., total number of reviews) in the descending order with the `sortBy` transformation. Print top 10 users who post the largest amount of reviews."
      ],
      "metadata": {
        "id": "Jm41FJss7L9z"
      }
    },
    {
      "cell_type": "code",
      "source": [
        "# Get the total number of reviews each user has posted\n",
        "user_review_counts_rdd = user_review_rdd.map(lambda x: (x[0], 1)).reduceByKey(lambda a, b: a + b)"
      ],
      "metadata": {
        "id": "R_eec-S77hDk"
      },
      "execution_count": 13,
      "outputs": []
    },
    {
      "cell_type": "code",
      "source": [
        "# Sort the transformed RDD by values (i.e., total number of reviews) in the descending order\n",
        "sorted_user_review_counts_rdd = user_review_counts_rdd.sortBy(lambda x: x[1], False)"
      ],
      "metadata": {
        "id": "0ZxUCLlv7tkq"
      },
      "execution_count": 14,
      "outputs": []
    },
    {
      "cell_type": "code",
      "source": [
        "# Print the top 10 users who post the largest amount of reviews\n",
        "top_10_user_review_counts = sorted_user_review_counts_rdd.take(10)\n",
        "\n",
        "for user_id, review_count in top_10_user_review_counts:\n",
        "    print(f\"User ID: {user_id}, Review count: {review_count}\")\n"
      ],
      "metadata": {
        "colab": {
          "base_uri": "https://localhost:8080/"
        },
        "id": "kFObCWVS76z5",
        "outputId": "0c6fb77f-5e4d-4b76-b69a-24d5750cf462"
      },
      "execution_count": 15,
      "outputs": [
        {
          "output_type": "stream",
          "name": "stdout",
          "text": [
            "User ID: r0pPV4-xj1sD_uGXVYxOaw, Review count: 20\n",
            "User ID: jn_dHhsCj2scx1951CKutA, Review count: 20\n",
            "User ID: Azxo0oP96tot8QGruS4XZw, Review count: 19\n",
            "User ID: Gs4OijDfrHzAbocJ-YYGog, Review count: 18\n",
            "User ID: uGbRVMSgnWKJN4lxLAABQw, Review count: 18\n",
            "User ID: 8OHkSxQRVfmMu5uQATi83g, Review count: 18\n",
            "User ID: nl8HXOlCwIJ86pYavbi5UQ, Review count: 17\n",
            "User ID: oiZUTKnsIilXwyN-HCK55w, Review count: 17\n",
            "User ID: LPovj-Wa7xXoJKM3qRy1bA, Review count: 16\n",
            "User ID: LdRkF_b7pvkjrmy3ZKEiig, Review count: 16\n"
          ]
        }
      ]
    },
    {
      "cell_type": "markdown",
      "source": [
        "### Get the total length of reviews (i.e., the total number of characters) each user has posted using the reduceByKey transformation. Sort the transformed RDD by values (i.e., total length of reviews) in the ascending order with the sortBy transformation. Print the 10 most quiet users (with the lowest total length of reviews)"
      ],
      "metadata": {
        "id": "eMGOqj-u8lCJ"
      }
    },
    {
      "cell_type": "code",
      "source": [
        "# Get the total length of reviews (i.e., the total number of characters) each user has posted\n",
        "user_review_lengths_rdd = user_review_rdd.map(lambda x: (x[0], len(x[1]))) \\\n",
        "    .reduceByKey(lambda a, b: a + b)\n",
        "\n",
        "\n",
        "#This will create a new RDD, user_review_lengths_rdd, that contains the user ID and the total length of reviews for each user.\n"
      ],
      "metadata": {
        "id": "sjx-eAcO9GYK"
      },
      "execution_count": 17,
      "outputs": []
    },
    {
      "cell_type": "code",
      "source": [
        "# Sort the transformed RDD by values (i.e., total length of reviews) in the ascending order\n",
        "sorted_user_review_lengths_rdd = user_review_lengths_rdd.sortBy(lambda x: x[1], True)\n"
      ],
      "metadata": {
        "id": "TwuodxeA-ts1"
      },
      "execution_count": 18,
      "outputs": []
    },
    {
      "cell_type": "code",
      "source": [
        "# Print the 10 most quiet users (with the lowest total length of reviews)\n",
        "top_10_quietest_users = sorted_user_review_lengths_rdd.take(10)\n",
        "\n",
        "for user_id, review_length in top_10_quietest_users:\n",
        "    print(f\"User ID: {user_id}, Review length: {review_length}\")\n"
      ],
      "metadata": {
        "colab": {
          "base_uri": "https://localhost:8080/"
        },
        "id": "TqeqO8M8-yUa",
        "outputId": "290da6bb-6c9c-4839-f8ac-ec3344e2c525"
      },
      "execution_count": 19,
      "outputs": [
        {
          "output_type": "stream",
          "name": "stdout",
          "text": [
            "User ID: r4K9hqVUpbLnmzb7VWnPrg, Review length: 592\n",
            "User ID: _iYBsrJUCYQWxAPRFGAPZg, Review length: 667\n",
            "User ID: 1trMVIHVfsaBRQpx8GW-XQ, Review length: 728\n",
            "User ID: iRpe3fQw9pMJmxEMxiVjCA, Review length: 767\n",
            "User ID: Hwn_c-F7rmus3ukJNp0Yug, Review length: 781\n",
            "User ID: TJK6tVDQL2Tx9OkRGDVOAw, Review length: 826\n",
            "User ID: MV4o5u9FfQhdKNbsat7JhQ, Review length: 884\n",
            "User ID: jF6vY7rlJsVQ_XpkL0fbxQ, Review length: 1048\n",
            "User ID: vedGQ3Y90omc80JARWGqOQ, Review length: 1082\n",
            "User ID: oe_FHIBRrrKey1YqsvCTcQ, Review length: 1127\n"
          ]
        }
      ]
    },
    {
      "cell_type": "markdown",
      "source": [
        "## Part 2: Practice of PySpark SQL (4 points)\n",
        "In this part, you need to use the techniques for Spark SQL  to read and process an external file that stores users' individual reviews on businesses from Tucson.\n",
        "\n",
        "Specifically, the external file, `user_reviews.csv`, has six attributes that are listed below.\n",
        "* `review_id`: a string-typed attribute indicating a review's ID\n",
        "* `user_id`: a string-typed attribute indicating the reviewer's ID\n",
        "* `business_id`: a string-typed attribute indicating the ID of the business that is reviewed\n",
        "* `review_stars`: a float-typed attribute indicating the review's star rating\n",
        "* `useful`: an integer-typed attribute indicating how many useful votes the review has received\n",
        "* `review_text`: a string-typed attribute storing the review's text\n",
        "\n",
        "Please use the Spark techniques we discussed during the class to finish the following tasks:\n",
        "1. Read the csv file using Spark SQL's `read.csv` function into a Spark DataFrame; customize the schema based on the information provided above when reading the file; print the DataFrame's schema after reading the data; show the first 20 rows. (1 point)\n",
        "2. For some unknown reasons, there are some reviews whose `review_id` **OR** `business_id` attribute is missing. Fill the missing values from the DataFrame with the string \"missing\" using the `fillna` transformation and drop the missing values from the DataFrame. Print how many rows are left after removing rows with missing values. (0.75 point)\n",
        "3. Create a new column named `review_text_length` that stores the length of the review using the `withColumn` transformation. Notice that you need to use the `length` function provided by Spark SQL's functions library. See the [official document](https://spark.apache.org/docs/3.1.3/api/python/reference/api/pyspark.sql.functions.length.html) for how to use the function. (0.75 point)\n",
        "4. Using the `groupby` transformation, group the DataFrame by `user_id` so as to calculate the following values for each user. Round each value to 2 decimals and choose a meaningful alias for each value. Sort the grouped dataframe by total useful votes (in descending order) and average star rating (in ascending order); show the first 20 rows (1.5 point).\n",
        "    * average star rating the user gives\n",
        "    * average review length the user gives\n",
        "    * total useful votes the user has received\n",
        "\n",
        "**Hint**: For task 2, you might want to filter the DataFrame so that only rows with non-missing `review_id` and `business_id` attributes are kept."
      ],
      "metadata": {
        "id": "xn8MG25_hvyG"
      }
    },
    {
      "cell_type": "markdown",
      "source": [
        "### Solution for Lab Assignment 2 Part 2\n",
        "Please replace this sentence with the documentation of your code for Lab Assignment 2 Part 2."
      ],
      "metadata": {
        "id": "CDoo48Xeh7sa"
      }
    },
    {
      "cell_type": "code",
      "source": [
        "\"\"\"\n",
        "This code cell is for Lab Assignment 2 Part 2\n",
        "\"\"\"\n",
        "\n",
        "user_rev = 'user_reviews.csv'"
      ],
      "metadata": {
        "id": "JRj68VNDiC_D"
      },
      "execution_count": 29,
      "outputs": []
    },
    {
      "cell_type": "code",
      "source": [
        " cat user_reviews.csv | head -n 10"
      ],
      "metadata": {
        "colab": {
          "base_uri": "https://localhost:8080/"
        },
        "id": "wClGOd3hpLGG",
        "outputId": "c4295e8e-63f5-4a47-df21-136b29b6fb32"
      },
      "execution_count": 30,
      "outputs": [
        {
          "output_type": "stream",
          "name": "stdout",
          "text": [
            "review_id,user_id,business_id,review_stars,useful,review_text\r\n",
            "FTcRb7TUjE-K6spSjs-0TA,CMYCfKoEu0WF9_43zRgr8g,5Ce3lZksYVkCbrihqylVHQ,5.0,2,We love this little restaurant! It's not as overrated  and loud compared to other places in Tucson. Sushi is awesome and for the right price.\r\n",
            "oyxS126nYDZOL0qwPa8how,CMYCfKoEu0WF9_43zRgr8g,CA5BOxKRDPGJgdUQ8OUOpw,5.0,1,\"We came here for dinner this evening and was absolutely delicious! Truly I was blown away. I ordered a fish special at market price and couldn't believe how yummy it was. Can't recall the name of the fish but it was in the grouper family. It tasted very identical to crab meat.   I had my one year old daughter with and couldn't get her to eat anything, but she loved my fish! Service was friendly. Love it here, but it is pricey! $100+ for two people, however every penny was well spent.\"\r\n",
            "KbFlOy2PN2dXBjdk4mpz8g,CMYCfKoEu0WF9_43zRgr8g,1MAQQhmUNU0uzHw3KhPczg,1.0,4,\"Just a heads up the owner, Roya, will not give refunds or respond to clients. I paid $500+ to reserve hair and makeup for my bridal party in September.   I was not informed that the business was closed and haven't received any responses regarding to getting a refund. Roya is a total scammer and a disgrace to the beauty industry.  I have a contract and proof regarding their refund policy for weddings, it says 50% of the total was due and a refund is eligible if given 14 days notice. Here I am giving almost 4 months notice. What a huge disappointment. Hopefully she isn't allowed to start a new business just to steal people's money.\"\r\n",
            "mslt0F7LpdBMQmKGkn-bAA,CMYCfKoEu0WF9_43zRgr8g,QXB4E78FXn3eotalXUG0bQ,1.0,9,\"Came in to get my ends cleaned up, FIVE TO SIX inches of my hair was hacked off when I specified no more than two. This place is a girls ultimate nightmare if you want to somewhat keep your length. I tried to be reasonable and give it a few days to get used to it, however NOBODY should ever feel this way after getting their hair done. If you're looking for a professional ladies hair cut, go elsewhere. I'm now investing out of pocket to get extensions. By far the worst hair cut I've ever had in my life.\"\r\n",
            "5SGsoqgx8CBbw6bcrsi0NQ,CMYCfKoEu0WF9_43zRgr8g,M983OPfVRnwvG7zEOzykCA,4.0,0,love the atmosphere!!! The patio is the best area to sit and relax with a significant other. They've got outdoor stone fireplaces set up and comfortable (modern) furniture to dine/drink on. I'm only giving this place four stars is because their sushi is not very good... they strictly use imitation crab or no meat at all.\r\n",
            "tBfTKrhnuTB4pmjyXVHGjw,CMYCfKoEu0WF9_43zRgr8g,J-Go00lYW4f4a3lLLtoh_A,5.0,0,Breakfast is bomb!!! We usually come in an hour before closing since there's a long wait in the a.m.!\r\n",
            "Rmv9zoXR5ULycbak7UTM2w,aMP9YyQbzcxXTGkWEy1kvg,5Ce3lZksYVkCbrihqylVHQ,5.0,0,There is a sushi bar that relocated here on the east side that's pretty good. I've eaten there a couple of times and so far like it. There no more expensive then other sushi bars so you'll know about what to expect when u get there. If u set at bar you'll get soup when u order sushi that's no charge kinda helps fill u up. (And good for you) anyway I'll recommend this sushi .\r\n",
            ",aMP9YyQbzcxXTGkWEy1kvg,LDkD5R5N7CG9yCD0YSLMZA,4.0,0,We enjoyed the shrimp fu young. Have had it a couple of times and it's been great every time. Not sure about the other items on menu but will try more of the food over time.\r\n",
            "DLu-Uw9zf95a34wntChWxA,aMP9YyQbzcxXTGkWEy1kvg,,1.0,2,The service friendly however the food really missed the mark ( we will not be going back)\r\n"
          ]
        }
      ]
    },
    {
      "cell_type": "code",
      "source": [
        "from pyspark.sql import SparkSession\n",
        "\n",
        "# Create a SparkSession\n",
        "spark = SparkSession.builder.getOrCreate()\n",
        "\n",
        "# Read the CSV file into a Spark DataFrame\n",
        "reviews_df = spark.read.csv('user_reviews.csv', header=True, schema='review_id STRING, user_id STRING, business_id STRING, review_stars INT, useful INT, review_text STRING')\n",
        "\n",
        "# Print the DataFrame's schema\n",
        "reviews_df.printSchema()\n",
        "\n",
        "# Show the first 20 rows\n",
        "reviews_df.show(20)\n"
      ],
      "metadata": {
        "colab": {
          "base_uri": "https://localhost:8080/"
        },
        "id": "tx6gAea9qFcK",
        "outputId": "5120b09e-b398-4a00-eab6-c85c09fcb663"
      },
      "execution_count": 31,
      "outputs": [
        {
          "output_type": "stream",
          "name": "stdout",
          "text": [
            "root\n",
            " |-- review_id: string (nullable = true)\n",
            " |-- user_id: string (nullable = true)\n",
            " |-- business_id: string (nullable = true)\n",
            " |-- review_stars: integer (nullable = true)\n",
            " |-- useful: integer (nullable = true)\n",
            " |-- review_text: string (nullable = true)\n",
            "\n",
            "+--------------------+--------------------+--------------------+------------+------+--------------------+\n",
            "|           review_id|             user_id|         business_id|review_stars|useful|         review_text|\n",
            "+--------------------+--------------------+--------------------+------------+------+--------------------+\n",
            "|FTcRb7TUjE-K6spSj...|CMYCfKoEu0WF9_43z...|5Ce3lZksYVkCbrihq...|        NULL|     2|We love this litt...|\n",
            "|oyxS126nYDZOL0qwP...|CMYCfKoEu0WF9_43z...|CA5BOxKRDPGJgdUQ8...|        NULL|     1|We came here for ...|\n",
            "|KbFlOy2PN2dXBjdk4...|CMYCfKoEu0WF9_43z...|1MAQQhmUNU0uzHw3K...|        NULL|     4|Just a heads up t...|\n",
            "|mslt0F7LpdBMQmKGk...|CMYCfKoEu0WF9_43z...|QXB4E78FXn3eotalX...|        NULL|     9|Came in to get my...|\n",
            "|5SGsoqgx8CBbw6bcr...|CMYCfKoEu0WF9_43z...|M983OPfVRnwvG7zEO...|        NULL|     0|love the atmosphe...|\n",
            "|tBfTKrhnuTB4pmjyX...|CMYCfKoEu0WF9_43z...|J-Go00lYW4f4a3lLL...|        NULL|     0|Breakfast is bomb...|\n",
            "|Rmv9zoXR5ULycbak7...|aMP9YyQbzcxXTGkWE...|5Ce3lZksYVkCbrihq...|        NULL|     0|There is a sushi ...|\n",
            "|                NULL|aMP9YyQbzcxXTGkWE...|LDkD5R5N7CG9yCD0Y...|        NULL|     0|We enjoyed the sh...|\n",
            "|DLu-Uw9zf95a34wnt...|aMP9YyQbzcxXTGkWE...|                NULL|        NULL|     2|The service frien...|\n",
            "|MsZfSop5M_0l56yEK...|aMP9YyQbzcxXTGkWE...|RSrBPqSze2HJkx5DZ...|        NULL|     0|Yes very nice bot...|\n",
            "|HPXLtMYWz5x6Y0VeX...|aMP9YyQbzcxXTGkWE...|yjcIKn2T2QY_DjXWA...|        NULL|     0|going there for a...|\n",
            "|ZI_5XZW-hEXOy_Nwo...|wl7VR72-u8ADycZAw...|9xm4aIAT_xwRoTxc0...|        NULL|     1|We just stayed he...|\n",
            "|Q3QeaElCPucDWOeih...|wl7VR72-u8ADycZAw...|lhsQkb5nhf-Kd5Ovg...|        NULL|     1|We had an excelle...|\n",
            "|M1XotRzFPNtiSjAPL...|wl7VR72-u8ADycZAw...|733MFsA_zzEY9RzKW...|        NULL|     1|This is a beautif...|\n",
            "|_8otZ5jX3ixRd_ALK...|wl7VR72-u8ADycZAw...|-y587EqqV-Pn6J631...|        NULL|     0|This convenience ...|\n",
            "|AbgdeunKbImlWumC-...|wl7VR72-u8ADycZAw...|F9BES1HFD3BkIudUe...|        NULL|     1|We visited here t...|\n",
            "|DGcJoa40m_QnZJVjL...|wl7VR72-u8ADycZAw...|PTnahBSnLT1jeok9t...|        NULL|     0|We were in town o...|\n",
            "|th9zfwPTk3S1IwvCY...|wl7VR72-u8ADycZAw...|ZXaePy9NYj3QRge8y...|        NULL|     0|As others have sa...|\n",
            "|RmvjTKjErJi-AbsRO...|wl7VR72-u8ADycZAw...|DQqW9FqDet0EF-FWz...|        NULL|     1|\"This trail syste...|\n",
            "|U5jYKJ7ng9v8vrZro...|wl7VR72-u8ADycZAw...|qvlcna5bw8Y2C3s1L...|        NULL|     0|What is not to lo...|\n",
            "+--------------------+--------------------+--------------------+------------+------+--------------------+\n",
            "only showing top 20 rows\n",
            "\n"
          ]
        }
      ]
    },
    {
      "cell_type": "code",
      "source": [
        "# Print the number of rows in the DataFrame\n",
        "print(reviews_df.count())\n"
      ],
      "metadata": {
        "colab": {
          "base_uri": "https://localhost:8080/"
        },
        "id": "YFF4V8w1sr9C",
        "outputId": "ac606344-b77b-4d5e-b5b9-50ac58c5b647"
      },
      "execution_count": 32,
      "outputs": [
        {
          "output_type": "stream",
          "name": "stdout",
          "text": [
            "1682\n"
          ]
        }
      ]
    },
    {
      "cell_type": "code",
      "source": [
        "# Print the number of missing values in each column of the DataFrame\n",
        "# The count row in the output shows the number of non-missing values in each column\n",
        "reviews_df.describe().show()"
      ],
      "metadata": {
        "colab": {
          "base_uri": "https://localhost:8080/"
        },
        "id": "v6LDZJDztI0F",
        "outputId": "69a37abb-d233-4db1-8a88-84d02a9edc72"
      },
      "execution_count": 33,
      "outputs": [
        {
          "output_type": "stream",
          "name": "stdout",
          "text": [
            "+-------+--------------------+--------------------+--------------------+------------+------------------+-------------------------------------+\n",
            "|summary|           review_id|             user_id|         business_id|review_stars|            useful|                          review_text|\n",
            "+-------+--------------------+--------------------+--------------------+------------+------------------+-------------------------------------+\n",
            "|  count|                1582|                1682|                1582|           0|              1682|                                 1682|\n",
            "|   mean|                NULL|                NULL|                NULL|        NULL|1.1557669441141498|                                 NULL|\n",
            "| stddev|                NULL|                NULL|                NULL|        NULL|2.2112132519486116|                                 NULL|\n",
            "|    min|--aiULfkTxB8FYsHk...|00Cz_vdInMHpTRjqb...|-3hzdvAPJKolEru6x...|        NULL|                 0|                 \"\"\"Homemade Desse...|\n",
            "|    max|zyW75RatLg5S0SsDi...|zRCCmHmS1dshRUAcL...|zwrgCMuZyFX46mL3p...|        NULL|                35|村里第一家火锅店，可喜可贺，前来捧...|\n",
            "+-------+--------------------+--------------------+--------------------+------------+------------------+-------------------------------------+\n",
            "\n"
          ]
        }
      ]
    },
    {
      "cell_type": "markdown",
      "source": [
        "review_stars has all null values"
      ],
      "metadata": {
        "id": "2JkODJwH5SM3"
      }
    },
    {
      "cell_type": "markdown",
      "source": [
        "For some unknown reasons, there are some reviews whose review_id OR business_id attribute is missing. Fill the missing values from the DataFrame with the string \"missing\" using the fillna transformation and drop the missing values from the DataFrame. Print how many rows are left after removing rows with missing values."
      ],
      "metadata": {
        "id": "3zVZFA68xkPi"
      }
    },
    {
      "cell_type": "code",
      "source": [
        "# Fill the missing values in the review_id and business_id columns with the string \"missing\"\n",
        "reviews_df = reviews_df.fillna({'review_id': 'missing', 'business_id': 'missing'})\n",
        "\n",
        "# Drop the review_stars column from the DataFrame\n",
        "reviews_df = reviews_df.drop('review_stars')\n",
        "\n",
        "# Drop the rows with missing values\n",
        "reviews_df = reviews_df.dropna()\n",
        "\n",
        "# Print the number of rows left after removing rows with missing values\n",
        "print(reviews_df.count())\n"
      ],
      "metadata": {
        "colab": {
          "base_uri": "https://localhost:8080/"
        },
        "id": "R64U8Ljjurh2",
        "outputId": "f046320c-74aa-4a46-ad01-fe50be3cc23b"
      },
      "execution_count": 34,
      "outputs": [
        {
          "output_type": "stream",
          "name": "stdout",
          "text": [
            "1682\n"
          ]
        }
      ]
    },
    {
      "cell_type": "markdown",
      "source": [
        "Create a new column named review_text_length that stores the length of the review using the with Column transformation. Notice that you need to use the length function provided by Spark SQL's functions library"
      ],
      "metadata": {
        "id": "DouLplgT6WmQ"
      }
    },
    {
      "cell_type": "code",
      "source": [
        "# Create a new column named review_text_length that stores the length of the review\n",
        "from pyspark.sql.functions import length\n",
        "reviews_df = reviews_df.withColumn('review_text_length', length(reviews_df['review_text']))\n"
      ],
      "metadata": {
        "id": "iP8qeaYp6K0P"
      },
      "execution_count": 36,
      "outputs": []
    },
    {
      "cell_type": "code",
      "source": [
        "# Show the first 20 rows\n",
        "reviews_df.show(20)"
      ],
      "metadata": {
        "colab": {
          "base_uri": "https://localhost:8080/"
        },
        "id": "wB97CIgk77dZ",
        "outputId": "50ab9d69-8e77-49d4-a405-bd228f16cfcb"
      },
      "execution_count": 37,
      "outputs": [
        {
          "output_type": "stream",
          "name": "stdout",
          "text": [
            "+--------------------+--------------------+--------------------+------+--------------------+------------------+\n",
            "|           review_id|             user_id|         business_id|useful|         review_text|review_text_length|\n",
            "+--------------------+--------------------+--------------------+------+--------------------+------------------+\n",
            "|FTcRb7TUjE-K6spSj...|CMYCfKoEu0WF9_43z...|5Ce3lZksYVkCbrihq...|     2|We love this litt...|               141|\n",
            "|oyxS126nYDZOL0qwP...|CMYCfKoEu0WF9_43z...|CA5BOxKRDPGJgdUQ8...|     1|We came here for ...|               488|\n",
            "|KbFlOy2PN2dXBjdk4...|CMYCfKoEu0WF9_43z...|1MAQQhmUNU0uzHw3K...|     4|Just a heads up t...|               637|\n",
            "|mslt0F7LpdBMQmKGk...|CMYCfKoEu0WF9_43z...|QXB4E78FXn3eotalX...|     9|Came in to get my...|               507|\n",
            "|5SGsoqgx8CBbw6bcr...|CMYCfKoEu0WF9_43z...|M983OPfVRnwvG7zEO...|     0|love the atmosphe...|               322|\n",
            "|tBfTKrhnuTB4pmjyX...|CMYCfKoEu0WF9_43z...|J-Go00lYW4f4a3lLL...|     0|Breakfast is bomb...|               101|\n",
            "|Rmv9zoXR5ULycbak7...|aMP9YyQbzcxXTGkWE...|5Ce3lZksYVkCbrihq...|     0|There is a sushi ...|               377|\n",
            "|             missing|aMP9YyQbzcxXTGkWE...|LDkD5R5N7CG9yCD0Y...|     0|We enjoyed the sh...|               173|\n",
            "|DLu-Uw9zf95a34wnt...|aMP9YyQbzcxXTGkWE...|             missing|     2|The service frien...|                89|\n",
            "|MsZfSop5M_0l56yEK...|aMP9YyQbzcxXTGkWE...|RSrBPqSze2HJkx5DZ...|     0|Yes very nice bot...|               139|\n",
            "|HPXLtMYWz5x6Y0VeX...|aMP9YyQbzcxXTGkWE...|yjcIKn2T2QY_DjXWA...|     0|going there for a...|               582|\n",
            "|ZI_5XZW-hEXOy_Nwo...|wl7VR72-u8ADycZAw...|9xm4aIAT_xwRoTxc0...|     1|We just stayed he...|              1353|\n",
            "|Q3QeaElCPucDWOeih...|wl7VR72-u8ADycZAw...|lhsQkb5nhf-Kd5Ovg...|     1|We had an excelle...|               508|\n",
            "|M1XotRzFPNtiSjAPL...|wl7VR72-u8ADycZAw...|733MFsA_zzEY9RzKW...|     1|This is a beautif...|               705|\n",
            "|_8otZ5jX3ixRd_ALK...|wl7VR72-u8ADycZAw...|-y587EqqV-Pn6J631...|     0|This convenience ...|               344|\n",
            "|AbgdeunKbImlWumC-...|wl7VR72-u8ADycZAw...|F9BES1HFD3BkIudUe...|     1|We visited here t...|              1464|\n",
            "|DGcJoa40m_QnZJVjL...|wl7VR72-u8ADycZAw...|PTnahBSnLT1jeok9t...|     0|We were in town o...|               940|\n",
            "|th9zfwPTk3S1IwvCY...|wl7VR72-u8ADycZAw...|ZXaePy9NYj3QRge8y...|     0|As others have sa...|              1135|\n",
            "|RmvjTKjErJi-AbsRO...|wl7VR72-u8ADycZAw...|DQqW9FqDet0EF-FWz...|     1|\"This trail syste...|              1158|\n",
            "|U5jYKJ7ng9v8vrZro...|wl7VR72-u8ADycZAw...|qvlcna5bw8Y2C3s1L...|     0|What is not to lo...|               479|\n",
            "+--------------------+--------------------+--------------------+------+--------------------+------------------+\n",
            "only showing top 20 rows\n",
            "\n"
          ]
        }
      ]
    },
    {
      "cell_type": "markdown",
      "source": [
        "Using the groupby transformation, group the DataFrame by user_id so as to calculate the following values for each user. Round each value to 2 decimals and choose a meaningful alias for each value. Sort the grouped dataframe by total useful votes (in descending order) and average star rating (in ascending order); show the first 20 rows.\n",
        "\n",
        "average star rating the user gives\n",
        "\n",
        "average review length the user gives\n",
        "\n",
        "total useful votes the user has received"
      ],
      "metadata": {
        "id": "sdo69ifw8ewc"
      }
    },
    {
      "cell_type": "code",
      "source": [
        "from pyspark.sql.functions import avg, sum\n",
        "\n",
        "\n"
      ],
      "metadata": {
        "id": "FZoH6uUC8OkH"
      },
      "execution_count": 40,
      "outputs": []
    },
    {
      "cell_type": "code",
      "source": [
        "# Group the DataFrame by user_id\n",
        "reviews_df_grouped = reviews_df.groupBy('user_id')\n",
        "\n"
      ],
      "metadata": {
        "id": "JGgbggMc9MUg"
      },
      "execution_count": 41,
      "outputs": []
    },
    {
      "cell_type": "code",
      "source": [
        "# Calculate the average star rating, average review length, and total useful votes for each user\n",
        "reviews_df_grouped = reviews_df_grouped.agg(\n",
        "#    avg('review_stars').alias('average_star_rating'),\n",
        "    avg('review_text_length').alias('average_review_length'),\n",
        "    sum('useful').alias('total_useful_votes')\n",
        ")"
      ],
      "metadata": {
        "id": "Nt3rKFm59SNP"
      },
      "execution_count": 47,
      "outputs": []
    },
    {
      "cell_type": "code",
      "source": [
        "# Sort the grouped DataFrame by total useful votes (in descending order) and average star rating (in ascending order)\n",
        "reviews_df_grouped = reviews_df_grouped.orderBy('total_useful_votes', ascending=False)#.orderBy('average_star_rating', ascending=True)\n",
        "\n",
        "# Show the first 20 rows of the grouped DataFrame\n",
        "reviews_df_grouped.show(20)"
      ],
      "metadata": {
        "colab": {
          "base_uri": "https://localhost:8080/"
        },
        "id": "MuZsHEiA9yd-",
        "outputId": "28062d37-7bde-4e43-ca6e-f294827cd07b"
      },
      "execution_count": 48,
      "outputs": [
        {
          "output_type": "stream",
          "name": "stdout",
          "text": [
            "+--------------------+---------------------+------------------+\n",
            "|             user_id|average_review_length|total_useful_votes|\n",
            "+--------------------+---------------------+------------------+\n",
            "|Vdy219QdKTKmzTSy1...|   363.54545454545456|                76|\n",
            "|59v5-XHpKQS48vRLW...|                619.4|                65|\n",
            "|oiZUTKnsIilXwyN-H...|    806.7647058823529|                47|\n",
            "|IpKpHOGCqLWibbiZr...|    528.3571428571429|                39|\n",
            "|cBbVbcqUWrgYLP-06...|               1399.8|                38|\n",
            "|lbMsbFedMjgjhWIZj...|    652.2857142857143|                38|\n",
            "|LPovj-Wa7xXoJKM3q...|              571.625|                37|\n",
            "|uyVtmvKr7Hs9niun0...|               922.75|                37|\n",
            "|wqeLjhyY3d6ac2C8d...|               1327.7|                36|\n",
            "|sDGGzhizsBdTFVW3r...|               954.75|                32|\n",
            "|Gs4OijDfrHzAbocJ-...|    836.0555555555555|                31|\n",
            "|OztI_L9xtMIrj-kPz...|   482.22222222222223|                28|\n",
            "|liH8jTV4irA0JEuHW...|   371.85714285714283|                25|\n",
            "|j5ezF5mEGpnDwdTmA...|               253.75|                25|\n",
            "|u28oJcZAtKiCECxVz...|                473.8|                25|\n",
            "|uGbRVMSgnWKJN4lxL...|    533.0555555555555|                24|\n",
            "|4yXxcCNC6HOCSTONn...|    341.7142857142857|                24|\n",
            "|rejYbLHPQT9M9Ujvv...|    787.6666666666666|                24|\n",
            "|u6njf5K-4W8w7p-Mp...|                857.2|                22|\n",
            "|x_Xcg1N_mqby6Y0U9...|                607.7|                22|\n",
            "+--------------------+---------------------+------------------+\n",
            "only showing top 20 rows\n",
            "\n"
          ]
        }
      ]
    }
  ]
}